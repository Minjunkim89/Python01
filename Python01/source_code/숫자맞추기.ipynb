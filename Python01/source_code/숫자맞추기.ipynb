{
 "cells": [
  {
   "cell_type": "code",
   "execution_count": 1,
   "metadata": {},
   "outputs": [
    {
     "name": "stdout",
     "output_type": "stream",
     "text": [
      "1부터 100사이의 숫자를 맞추어주세요.\n",
      "숫자를 입력하세요...1\n",
      "정답이 아닙니다\n",
      "너무작음!!!\n",
      "숫자를 입력하세요...22\n",
      "정답이 아닙니다\n",
      "너무 큼!!!\n",
      "숫자를 입력하세요...33\n",
      "정답이 아닙니다\n",
      "너무 큼!!!\n",
      "숫자를 입력하세요...17\n",
      "정답이 아닙니다\n",
      "너무 큼!!!\n",
      "숫자를 입력하세요...6\n",
      "정답이 아닙니다\n",
      "너무작음!!!\n",
      "숫자를 입력하세요...14\n",
      "정답이 아닙니다\n",
      "너무 큼!!!\n",
      "숫자를 입력하세요...8\n",
      "정답이 아닙니다\n",
      "너무작음!!!\n",
      "숫자를 입력하세요...10\n",
      "정답이 아닙니다\n",
      "너무 큼!!!\n",
      "숫자를 입력하세요...9\n",
      "정답입니다.\n"
     ]
    }
   ],
   "source": [
    "import random\n",
    "\n",
    "number = random.randint(1,100)\n",
    "number\n",
    "\n",
    "print(\"1부터 100사이의 숫자를 맞추어주세요.\")\n",
    "tries= 0\n",
    "\n",
    "while tries < 10:\n",
    "    guess = int(input(\"숫자를 입력하세요...\"))\n",
    "    tries =tries + 1\n",
    "    if guess == number:\n",
    "        print(\"정답입니다.\")\n",
    "        break\n",
    "    else:\n",
    "            print(\"정답이 아닙니다\")\n",
    "            if guess < number:\n",
    "                print(\"너무작음!!!\")\n",
    "            elif guess > number:\n",
    "                print(\"너무 큼!!!\")"
   ]
  },
  {
   "cell_type": "code",
   "execution_count": 2,
   "metadata": {},
   "outputs": [
    {
     "data": {
      "text/plain": [
       "33"
      ]
     },
     "execution_count": 2,
     "metadata": {},
     "output_type": "execute_result"
    }
   ],
   "source": []
  },
  {
   "cell_type": "code",
   "execution_count": null,
   "metadata": {},
   "outputs": [],
   "source": []
  }
 ],
 "metadata": {
  "kernelspec": {
   "display_name": "Python 3",
   "language": "python",
   "name": "python3"
  },
  "language_info": {
   "codemirror_mode": {
    "name": "ipython",
    "version": 3
   },
   "file_extension": ".py",
   "mimetype": "text/x-python",
   "name": "python",
   "nbconvert_exporter": "python",
   "pygments_lexer": "ipython3",
   "version": "3.7.0"
  }
 },
 "nbformat": 4,
 "nbformat_minor": 2
}
